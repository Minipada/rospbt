{
 "cells": [
  {
   "cell_type": "code",
   "execution_count": 1,
   "metadata": {},
   "outputs": [],
   "source": [
    "from collections import namedtuple\n",
    "from hypothesis.strategies import composite\n",
    "\n",
    "from rospbt.ros1.generators.builtin_msg_field_types import float64\n",
    "\n",
    "_Point = namedtuple('Point', 'x y z')\n",
    "\n",
    "@composite\n",
    "def point(draw, **kwargs):\n",
    "    \"\"\"\n",
    "    Generates and shrinks values for ROS geometry message type \"point\".\n",
    "\n",
    "    Parameters\n",
    "    ----------\n",
    "    **x_kwargs : dict\n",
    "        Dictionary holding float64 datatype arguments (min_value, max_value, allow_nan, allow_infinity).\n",
    "    **y_kwargs : dict\n",
    "        Dictionary holding float64 datatype arguments (min_value, max_value, allow_nan, allow_infinity).\n",
    "    **z_kwargs : dict\n",
    "        Dictionary holding float64 datatype arguments (min_value, max_value, allow_nan, allow_infinity).\n",
    "\n",
    "\n",
    "    Example\n",
    "    -------\n",
    "    Using the point strategy without customization:\n",
    "\n",
    "        In [1]: from rospbt.ros1.generators import geometry_msgs\n",
    "        In [2]: geometry_msgs.point().exampe()\n",
    "        Out[2]: Point(x=1.6190209954472536e+306, y=8.974047770802116e+307, z=1.2573577357590904e+308)\n",
    "\n",
    "\n",
    "    Using the point strategy with customization:\n",
    "\n",
    "        In [1]: from rospbt.ros1.generators import geometry_msgs\n",
    "        In [2]: geometry_msgs.point().exampe()\n",
    "        In [3]: x_kwargs={'min_value': 1, 'max_value': 1}\n",
    "        In [4]: y_kwargs={'min_value': 2, 'max_value': 2}\n",
    "        In [5]: z_kwargs={'min_value': 3, 'max_value': 3}\n",
    "        In [6]: geometry_msgs.point(x_kwargs, y_kwargs, z_kwargs).example()\n",
    "    \"\"\"\n",
    "    x_kwargs = kwargs.pop('x_kwargs', False)\n",
    "    y_kwargs = kwargs.pop('y_kwargs', False)\n",
    "    z_kwargs = kwargs.pop('z_kwargs', False)\n",
    "\n",
    "    if kwargs:\n",
    "        raise TypeError('Unexpected **kwargs: %r' % kwargs)\n",
    "\n",
    "    if x_kwargs:\n",
    "        x = draw(float64(**x_kwargs))\n",
    "    else:\n",
    "        x = draw(float64())\n",
    "    if y_kwargs:\n",
    "        y = draw(float64(**y_kwargs))\n",
    "    else:\n",
    "        y = draw(float64())\n",
    "    if z_kwargs:\n",
    "        z = draw(float64(**z_kwargs))\n",
    "    else:\n",
    "        z = draw(float64())\n",
    "    return _Point(x, y, z)"
   ]
  },
  {
   "cell_type": "code",
   "execution_count": 2,
   "metadata": {},
   "outputs": [],
   "source": [
    "x_kwargs={'min_value': 1, 'max_value': 1}\n",
    "y_kwargs={'min_value': 2, 'max_value': 2}\n",
    "z_kwargs={'min_value': 3, 'max_value': 3}"
   ]
  },
  {
   "cell_type": "code",
   "execution_count": 3,
   "metadata": {},
   "outputs": [
    {
     "data": {
      "text/plain": [
       "Point(x=1.0, y=2.0, z=3.0)"
      ]
     },
     "execution_count": 3,
     "metadata": {},
     "output_type": "execute_result"
    }
   ],
   "source": [
    "point(x_kwargs=x_kwargs, y_kwargs=y_kwargs, z_kwargs=z_kwargs).example()"
   ]
  }
 ],
 "metadata": {
  "kernelspec": {
   "display_name": "Python 2",
   "language": "python",
   "name": "python2"
  },
  "language_info": {
   "codemirror_mode": {
    "name": "ipython",
    "version": 2
   },
   "file_extension": ".py",
   "mimetype": "text/x-python",
   "name": "python",
   "nbconvert_exporter": "python",
   "pygments_lexer": "ipython2",
   "version": "2.7.12"
  }
 },
 "nbformat": 4,
 "nbformat_minor": 2
}
